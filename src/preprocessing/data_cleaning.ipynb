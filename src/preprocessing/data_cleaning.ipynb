{
 "cells": [
  {
   "cell_type": "code",
   "execution_count": 11,
   "metadata": {},
   "outputs": [],
   "source": [
    "import os\n",
    "import pandas as pd\n",
    "import pydicom\n",
    "import datetime\n",
    "from datetime import datetime\n",
    "import numpy as np\n",
    "import matplotlib.pyplot as plt\n",
    "from PIL import Image\n",
    "import numpy as np\n",
    "from skimage import measure\n",
    "import shutil\n",
    "import cv2\n",
    "import matplotlib.colors as mcolors\n",
    "from matplotlib.colors import LogNorm\n",
    "import random\n",
    "os.environ['PYTHONHASHSEED']=str(6111)\n",
    "random.seed(6111)\n"
   ]
  },
  {
   "cell_type": "code",
   "execution_count": 12,
   "metadata": {},
   "outputs": [
    {
     "name": "stdout",
     "output_type": "stream",
     "text": [
      "['data_nonks_all_200630.csv', 'data_ks_all_200630.csv']\n"
     ]
    }
   ],
   "source": [
    "print(os.listdir('../data/csv_files/diagnosis'))"
   ]
  },
  {
   "cell_type": "code",
   "execution_count": 20,
   "metadata": {},
   "outputs": [
    {
     "name": "stderr",
     "output_type": "stream",
     "text": [
      "/Library/Python/3.7/site-packages/IPython/core/interactiveshell.py:3058: DtypeWarning: Columns (2,3,43) have mixed types.Specify dtype option on import or set low_memory=False.\n",
      "  interactivity=interactivity, compiler=compiler, result=result)\n"
     ]
    },
    {
     "name": "stdout",
     "output_type": "stream",
     "text": [
      "['patient', 'x_case', 'x_cancer_laterality', 'x_diadate', 'x_birthdate', 'x_age_mammo', 'x_implant', 'x_examination_type', 'basename', 'full_path_clio', 'dicom_studydate', 'dicom_bitsallocated', 'dicom_bitsstored', 'dicom_bodypartexamined', 'dicom_bodypartthickness', 'dicom_breastimplantpresent', 'dicom_burnedinannotation', 'dicom_codevalue', 'dicom_compressionforce', 'dicom_detectorelementspacing', 'dicom_detectorid', 'dicom_detectortype', 'dicom_entrancedoseinmilligy', 'dicom_exposure', 'dicom_exposurecontroldescr', 'dicom_exposurecontrolmode', 'dicom_exposureinmicroampsec', 'dicom_exposurestatus', 'dicom_exposuretime', 'dicom_exposuretimeinmicrosec', 'dicom_fieldofviewdimensions', 'dicom_imagelaterality', 'dicom_imagerpixelspacing', 'dicom_institutionname', 'dicom_kvp', 'dicom_manufacturer', 'dicom_manufacturersmodelname', 'dicom_modality', 'dicom_operatorsname', 'dicom_organdose', 'dicom_organexposed', 'dicom_pixelpaddingrangelimit', 'dicom_relativexrayexposure', 'dicom_requestedprocedureid', 'dicom_requestingphysician', 'dicom_rows', 'dicom_shutterspeed', 'dicom_softwareversion', 'dicom_sopclassuid', 'dicom_stationname', 'dicom_studydescription', 'dicom_viewmeaning', 'dicom_viewposition', 'dicom_windowcenter', 'dicom_windowexplanation', 'dicom_windowwidth', 'dicom_xraytubecurrent', 'dicom_xraytubecurrentinmicroamps', 'dicom_photometricinterpretation', 'excluded_badquality', 'excluded_implant_patient', 'excluded_duplicate_view', 'excluded_other_factors', 'excluded_nonhologic', 'excluded_nonks', 'if_adam', 'if_hidden', 'if_test', 'if_val', 'if_train', 'if_train_added', 'if_test_ims_ks', 'split']\n"
     ]
    }
   ],
   "source": [
    "csv_path = '../data/csv_files/diagnosis/data_ks_all_200630.csv'\n",
    "new_df = pd.read_csv(csv_path, delimiter=';', dtype={'sourcefile':str})\n",
    "print(new_df.columns.tolist())"
   ]
  },
  {
   "cell_type": "markdown",
   "metadata": {},
   "source": [
    "# exclude women with implants"
   ]
  },
  {
   "cell_type": "code",
   "execution_count": 21,
   "metadata": {},
   "outputs": [
    {
     "name": "stdout",
     "output_type": "stream",
     "text": [
      "{nan, 'MLOID', 'MLO', 'CC', 'CCID'}\n",
      "{nan, 'NO', 'YES'}\n",
      "{'R-10242', 'R-10226'}\n",
      "{'1.0', 'nan'}\n",
      "implant len: 387\n",
      "======= new df len: 261202\n",
      "21049\n",
      "{nan, 'MLO', 'CC'}\n",
      "{nan, 'NO'}\n",
      "{'R-10242', 'R-10226'}\n",
      "{'nan'}\n"
     ]
    }
   ],
   "source": [
    "# exclude patients with implants\n",
    "print(set(new_df['dicom_viewposition'].tolist()))\n",
    "print(set(new_df['dicom_breastimplantpresent'].tolist()))\n",
    "print(set(new_df['dicom_codevalue'].tolist()))\n",
    "print(set(new_df['x_implant'].astype(str).tolist()))\n",
    "\n",
    "# implant patient\n",
    "implant_patient_list = []\n",
    "for i in range(new_df.shape[0]):\n",
    "  row = new_df.loc[i,:]\n",
    "  patient = str(row['patient'])\n",
    "  dicom_breastimplantpresent = str(row['dicom_breastimplantpresent'])\n",
    "  dicom_viewposition = str(row['dicom_viewposition'])\n",
    "  dicom_codevalue = str(row['dicom_codevalue'])\n",
    "  x_implant = str(row['x_implant'])\n",
    "    \n",
    "  if dicom_breastimplantpresent == 'YES' \\\n",
    "  or 'ID' in dicom_viewposition \\\n",
    "  or dicom_codevalue == 'R-102D5' \\\n",
    "  or x_implant == '1.0':\n",
    "    if patient not in implant_patient_list:\n",
    "      implant_patient_list.append(patient)\n",
    "\n",
    "print('implant len:', len(implant_patient_list))\n",
    "\n",
    "\n",
    "new_df = new_df[~new_df['patient'].isin(implant_patient_list)].reset_index(drop=True)\n",
    "print('======= new df len:', new_df.shape[0])\n",
    "print(len(set(new_df['patient'].tolist())))\n",
    "\n",
    "print(set(new_df['dicom_viewposition'].tolist()))\n",
    "print(set(new_df['dicom_breastimplantpresent'].tolist()))\n",
    "print(set(new_df['dicom_codevalue'].tolist()))\n",
    "print(set(new_df['x_implant'].astype(str).tolist()))"
   ]
  },
  {
   "cell_type": "markdown",
   "metadata": {},
   "source": [
    "# exclude biopsy images"
   ]
  },
  {
   "cell_type": "code",
   "execution_count": 32,
   "metadata": {},
   "outputs": [
    {
     "name": "stdout",
     "output_type": "stream",
     "text": [
      "df len: 261202\n",
      "{'MAMMOGRAFIUTREDN', 'BREAST', 'MAM KLIN', 'Bröstpunktion', 'KLINISK', 'TVABILDS_MAMMO', 'SELEKTERAD', 'MAMMOGRAFI', 'SCR 2_BILD', 'MAM KLIN H'}\n",
      "len biopsy: 4\n",
      "\n",
      "after excluding biopsy:\n",
      "len new_df2: 261198\n",
      "{'MAMMOGRAFIUTREDN', 'BREAST', 'MAM KLIN', 'KLINISK', 'TVABILDS_MAMMO', 'SELEKTERAD', 'MAMMOGRAFI', 'SCR 2_BILD', 'MAM KLIN H'}\n"
     ]
    }
   ],
   "source": [
    "# exclude biopsy images\n",
    "print('df len:', len(new_df))\n",
    "body_parts = set(new_df['dicom_bodypartexamined'].tolist())\n",
    "\n",
    "print(body_parts)\n",
    "print('len biopsy:', len(new_df[new_df['dicom_bodypartexamined'] == 'Bröstpunktion']))\n",
    "\n",
    "new_df2 = new_df[new_df['dicom_bodypartexamined'] != 'Bröstpunktion']\n",
    "# biopsy images would have something like this- BrÃ¶stpunktion\n",
    "\n",
    "print('\\nafter excluding biopsy:')\n",
    "print('len new_df2:', len(new_df2))\n",
    "print(set(new_df2['dicom_bodypartexamined'].tolist()))"
   ]
  },
  {
   "cell_type": "markdown",
   "metadata": {},
   "source": [
    "# exclude mammograms that are not vendor post-processed"
   ]
  },
  {
   "cell_type": "code",
   "execution_count": 33,
   "metadata": {},
   "outputs": [
    {
     "name": "stdout",
     "output_type": "stream",
     "text": [
      "{'1.2.840.10008.5.1.4.1.1.1.2', '1.2.840.10008.5.1.4.1.1.7', '1.2.840.10008.5.1.4.1.1.1.2.1'}\n",
      "len new_df: 261202\n",
      "patients: 21049\n",
      "{'1.2.840.10008.5.1.4.1.1.1.2', '1.2.840.10008.5.1.4.1.1.7', '1.2.840.10008.5.1.4.1.1.1.2.1'}\n"
     ]
    }
   ],
   "source": [
    "print(set(new_df['dicom_sopclassuid'].tolist()))\n",
    "# new_df = new_df[new_df['dicom_sopclassuid']=='Digital Mammography X-Ray Image Storage - For Presentation'].reset_index(drop=True)\n",
    "\n",
    "\n",
    "print('len new_df:', new_df.shape[0])\n",
    "print('patients:', len(set(new_df['patient'].tolist())))\n",
    "print(set(new_df['dicom_sopclassuid'].tolist()))"
   ]
  },
  {
   "cell_type": "markdown",
   "metadata": {},
   "source": [
    "# exclude mammograms with aborted exposure"
   ]
  },
  {
   "cell_type": "code",
   "execution_count": 6,
   "metadata": {},
   "outputs": [
    {
     "data": {
      "text/plain": [
       "{'NORMAL', nan}"
      ]
     },
     "execution_count": 6,
     "metadata": {},
     "output_type": "execute_result"
    }
   ],
   "source": [
    "# exclude mammograms with aborted exposure\n",
    "set(new_df['dicom_exposurestatus'].tolist())\n",
    "# no exclusion\n",
    "# images with aborted exposure would have 'ABORTED'"
   ]
  },
  {
   "cell_type": "markdown",
   "metadata": {},
   "source": [
    "# exclude mammograms not taken by x-ray photoconductor"
   ]
  },
  {
   "cell_type": "code",
   "execution_count": 7,
   "metadata": {},
   "outputs": [
    {
     "name": "stdout",
     "output_type": "stream",
     "text": [
      "{'STORAGE', 'DIRECT', 'SCINTILLATOR'}\n",
      "16975\n",
      "2116\n",
      "{'DIRECT'}\n"
     ]
    }
   ],
   "source": [
    "# exclude mammograms not taken by x-ray photoconductor\n",
    "print(set(new_df['dicom_detectortype'].tolist()))\n",
    "new_df = new_df[new_df['dicom_detectortype']== 'DIRECT'].reset_index(drop=True)\n",
    "print(new_df.shape[0])\n",
    "print(len(set(new_df['patient'].tolist())))\n",
    "print(set(new_df['dicom_detectortype'].tolist()))"
   ]
  },
  {
   "cell_type": "markdown",
   "metadata": {},
   "source": [
    "# exclude earlier mammograms when there are duplicates in the same exam"
   ]
  },
  {
   "cell_type": "code",
   "execution_count": 8,
   "metadata": {},
   "outputs": [
    {
     "name": "stdout",
     "output_type": "stream",
     "text": [
      "15341\n",
      "2116\n"
     ]
    }
   ],
   "source": [
    "# exclude earlier mammograms when there are duplicates in the same exam\n",
    "new_df = new_df.sort_values(by=['patient', 'dicom_studydate', 'basename'], ascending=False).reset_index(drop=True)\n",
    "info_list = []\n",
    "index_list = []\n",
    "for i in range(new_df.shape[0]):\n",
    "  row = new_df.loc[i,:]\n",
    "  patient = str(row['patient'])\n",
    "#   print(row['basename'])\n",
    "  dicom_studydate = str(row['dicom_studydate'])\n",
    "  dicom_imagelaterality = str(row['dicom_imagelaterality'])\n",
    "  dicom_viewposition = str(row['dicom_viewposition'])\n",
    "  lat_view = str(dicom_imagelaterality)+str(dicom_viewposition)\n",
    "  info = (patient, dicom_studydate, lat_view)\n",
    "#   print(info)\n",
    "  if info not in info_list:\n",
    "    info_list.append(info)\n",
    "    index_list.append(i)\n",
    "#   else:\n",
    "#     print('duplicate')\n",
    "new_df = new_df.loc[index_list,:].reset_index(drop=True)\n",
    "print(new_df.shape[0])\n",
    "print(len(set(new_df['patient'].tolist())))  "
   ]
  },
  {
   "cell_type": "markdown",
   "metadata": {},
   "source": [
    "# exclude clinical images"
   ]
  },
  {
   "cell_type": "code",
   "execution_count": 9,
   "metadata": {},
   "outputs": [
    {
     "name": "stdout",
     "output_type": "stream",
     "text": [
      "{'Screening', 'Clinical'}\n",
      "10844\n",
      "1327\n",
      "{'Screening'}\n"
     ]
    },
    {
     "data": {
      "text/plain": [
       "{'BREAST'}"
      ]
     },
     "execution_count": 9,
     "metadata": {},
     "output_type": "execute_result"
    }
   ],
   "source": [
    "print(set(new_df['x_examination_type']))\n",
    "new_df = new_df[new_df['x_examination_type']=='Screening'].reset_index(drop=True)\n",
    "print(new_df.shape[0])\n",
    "print(len(set(new_df['patient'].tolist())))\n",
    "print(set(new_df['x_examination_type']))\n",
    "set(new_df['dicom_bodypartexamined'].tolist())"
   ]
  },
  {
   "cell_type": "markdown",
   "metadata": {},
   "source": [
    "# exclude non ks/hologic"
   ]
  },
  {
   "cell_type": "code",
   "execution_count": 10,
   "metadata": {},
   "outputs": [
    {
     "name": "stdout",
     "output_type": "stream",
     "text": [
      "{'SIEMENS', 'HOLOGIC, Inc.', 'IMS s.r.l.'}\n",
      "{'Danderyds Sjukhus', nan, 'Karolinska Solna', 'Your Hospital Name Here', 'Sophiahemmet', 'Danderyds Sjukhus AB', 'Karolinska Mammo Lab 3', 'SOPHIAHEMMET', 'Karolinska Universitetssjukhuset', 'Karolinska Mammo lab 2'}\n",
      "10744\n",
      "1306\n",
      "{'HOLOGIC, Inc.'}\n",
      "{'Danderyds Sjukhus', nan, 'Karolinska Solna', 'Your Hospital Name Here', 'Danderyds Sjukhus AB', 'Karolinska Mammo Lab 3', 'Karolinska Universitetssjukhuset', 'Karolinska Mammo lab 2'}\n",
      "10608\n",
      "1275\n",
      "{'HOLOGIC, Inc.'}\n",
      "{'Karolinska Universitetssjukhuset', 'Karolinska Solna', 'Karolinska Mammo lab 2', 'Karolinska Mammo Lab 3'}\n"
     ]
    }
   ],
   "source": [
    "print(set(new_df['dicom_manufacturer'].tolist()))\n",
    "print(set(new_df['dicom_institutionname'].tolist()))\n",
    "\n",
    "new_df = new_df[new_df['dicom_manufacturer']=='HOLOGIC, Inc.'].reset_index(drop=True)\n",
    "print(new_df.shape[0])\n",
    "print(len(set(new_df['patient'].tolist())))\n",
    "\n",
    "print(set(new_df['dicom_manufacturer'].tolist()))\n",
    "print(set(new_df['dicom_institutionname'].tolist()))\n",
    "ks_list = ['Karolinska Mammo lab 2', 'Karolinska Solna', 'Karolinska Mammo Lab 3', 'Karolinska Universitetssjukhuset']\n",
    "\n",
    "new_df = new_df[new_df['dicom_institutionname'].isin(ks_list)].reset_index(drop=True)\n",
    "print(new_df.shape[0])\n",
    "print(len(set(new_df['patient'].tolist())))\n",
    "\n",
    "print(set(new_df['dicom_manufacturer'].tolist()))\n",
    "print(set(new_df['dicom_institutionname'].tolist()))"
   ]
  }
 ],
 "metadata": {
  "kernelspec": {
   "display_name": "Python 3",
   "language": "python",
   "name": "python3"
  },
  "language_info": {
   "codemirror_mode": {
    "name": "ipython",
    "version": 3
   },
   "file_extension": ".py",
   "mimetype": "text/x-python",
   "name": "python",
   "nbconvert_exporter": "python",
   "pygments_lexer": "ipython3",
   "version": "3.7.3"
  },
  "pycharm": {
   "stem_cell": {
    "cell_type": "raw",
    "source": [],
    "metadata": {
     "collapsed": false
    }
   }
  }
 },
 "nbformat": 4,
 "nbformat_minor": 4
}